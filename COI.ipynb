{
  "nbformat": 4,
  "nbformat_minor": 0,
  "metadata": {
    "colab": {
      "name": "Salmeen_Essam_1610102_Cartooning.ipynb",
      "provenance": [],
      "collapsed_sections": [],
      "toc_visible": true
    },
    "kernelspec": {
      "display_name": "Python 3",
      "language": "python",
      "name": "python3"
    },
    "language_info": {
      "codemirror_mode": {
        "name": "ipython",
        "version": 3
      },
      "file_extension": ".py",
      "mimetype": "text/x-python",
      "name": "python",
      "nbconvert_exporter": "python",
      "pygments_lexer": "ipython3",
      "version": "3.7.6"
    }
  },
  "cells": [
    {
      "cell_type": "markdown",
      "metadata": {
        "colab_type": "text",
        "id": "n78dr79JBN4Z"
      },
      "source": [
        "# Cartooning of an Image "
      ]
    },
    {
      "cell_type": "markdown",
      "metadata": {
        "colab_type": "text",
        "id": "E7RIShoEBN4b"
      },
      "source": [
        "## Libraries to be used"
      ]
    },
    {
      "cell_type": "code",
      "metadata": {
        "colab_type": "code",
        "id": "Nt_q_R3DBN4c",
        "colab": {}
      },
      "source": [
        "import matplotlib.pyplot as plt\n",
        "import numpy as np\n",
        "import math\n",
        "from skimage import data, io, filters\n",
        "from matplotlib.pyplot import imshow, show, subplot, title, get_cmap\n",
        "from skimage import feature\n",
        "from skimage.restoration import denoise_bilateral as bilateralfilter\n",
        "from skimage.color.adapt_rgb import adapt_rgb, each_channel, hsv_value\n",
        "from skimage.transform import rescale, resize\n",
        "from skimage.util import img_as_ubyte\n"
      ],
      "execution_count": null,
      "outputs": []
    },
    {
      "cell_type": "markdown",
      "metadata": {
        "colab_type": "text",
        "id": "tPW1m8uFBN4k"
      },
      "source": [
        "## Edge Detection"
      ]
    },
    {
      "cell_type": "markdown",
      "metadata": {
        "colab_type": "text",
        "id": "XxQxvczaBN4r"
      },
      "source": [
        "### Convert RGB to Gray Scale"
      ]
    },
    {
      "cell_type": "code",
      "metadata": {
        "colab_type": "code",
        "id": "1YfrGxh4BN4s",
        "colab": {
          "base_uri": "https://localhost:8080/",
          "height": 457
        },
        "outputId": "9a88b9bb-8cd0-4cb4-c81e-fab9bcb21762"
      },
      "source": [
        "def RGBtoGray (img):\n",
        "    newImage=np.zeros((img.shape[0], img.shape[1]))\n",
        "    for i in range (img.shape[0]):\n",
        "        for j in range (img.shape[1]):\n",
        "            newImage[i][j]= int((img[i][j][0]/3)+ (img[i][j][1]/3)+ (img[i][j][2]/3))\n",
        "    return newImage\n",
        "fruit = data.astronaut()\n",
        "grayFruit = RGBtoGray(fruit)\n",
        "\n",
        "fig, (ax1,ax2) = plt.subplots(1,2)\n",
        "fig.set_size_inches(16, 8)\n",
        "ax1.imshow(fruit ,cmap=plt.cm.gray)\n",
        "ax2.imshow(grayFruit ,cmap=plt.cm.gray)\n",
        "plt.show()"
      ],
      "execution_count": null,
      "outputs": []
    },
    {
      "cell_type": "markdown",
      "metadata": {
        "colab_type": "text",
        "id": "xNxDJKuaBN4z"
      },
      "source": [
        "### Image Filtering  Using Adaptive Median Filter"
      ]
    },
    {
      "cell_type": "code",
      "metadata": {
        "colab_type": "code",
        "id": "Xlr8BUzyBN40",
        "colab": {
          "base_uri": "https://localhost:8080/",
          "height": 457
        },
        "outputId": "50f3b78a-a003-4c1c-d81c-f4b828aa3b7c"
      },
      "source": [
        "def adaptive_median_filter(img,s,start_size):\n",
        "    new_image= img\n",
        "    \n",
        "    \n",
        "    for i in range(1,img.shape[0]-(math.floor(s/2))):\n",
        "        for j in range(1,img.shape[1]-(math.floor(s/2))):\n",
        "            start = start_size\n",
        "            changed = True\n",
        "            while (s>start):\n",
        "                kernel= np.ones((start,start))\n",
        "                \n",
        "                new_image[i][j] = med_calc(img, kernel, i, j)\n",
        "                \n",
        "                if (new_image[i][j]==-1):\n",
        "                    changed = False\n",
        "                    start+=1\n",
        "                else:\n",
        "                    changed = True\n",
        "                    start=s\n",
        "            \n",
        "            if not changed:\n",
        "                new_image[i][j] = img[i][j]\n",
        "    return new_image\n",
        "       \n",
        "        \n",
        "def med_calc(img,kernel, i, j):\n",
        "    \n",
        "    klist=[]\n",
        "    m= math.floor((len(kernel))/2)\n",
        "    n= len(kernel)-m\n",
        "    \n",
        "    for x in range(-m,n-1):\n",
        "        for y in range(-m,n-1):\n",
        "            klist.append(img[i+x][j+y])\n",
        "            \n",
        "    klist.sort()\n",
        "    med =0\n",
        "    \n",
        "    if (len(klist) % 2)==0:\n",
        "        med =math.floor(((klist[math.floor(len(klist)/2)]) + (klist[math.floor((len(klist)/2))+1]))/2)\n",
        "    else:\n",
        "        med=math.floor(klist[math.ceil(len(klist)/2)])\n",
        "        \n",
        "    a1=med-klist[0]\n",
        "    a2=med-klist[len(klist)-1]\n",
        "    res=0\n",
        "    \n",
        "    if (a1>0 and a2<0):\n",
        "        b1=img[i][j]-klist[0]\n",
        "        b2=img[i][j]-klist[len(klist)-1]\n",
        "        if(b1>0 and b2<0):\n",
        "            res=img[i][j]\n",
        "        else: \n",
        "            res= med\n",
        "    else:\n",
        "        res=-1\n",
        "    return res\n",
        "\n",
        "\n",
        "original = data.astronaut()\n",
        "gray = RGBtoGray(original)\n",
        "filtered = adaptive_median_filter(gray,9,5)\n",
        "\n",
        "\n",
        "fig, (ax1,ax2) = plt.subplots(1,2)\n",
        "fig.set_size_inches(16, 8)\n",
        "ax1.imshow(gray ,cmap=plt.cm.gray)\n",
        "ax2.imshow(filtered ,cmap=plt.cm.gray)\n",
        "plt.show()"
      ],
      "execution_count": null,
      "outputs": []
    },
    {
      "cell_type": "markdown",
      "metadata": {
        "colab_type": "text",
        "id": "bBgni-rcBN48"
      },
      "source": [
        "### Difference of Gaussian Edge Detection"
      ]
    },
    {
      "cell_type": "code",
      "metadata": {
        "colab_type": "code",
        "id": "6TXMIjdTBN49",
        "colab": {
          "base_uri": "https://localhost:8080/",
          "height": 457
        },
        "outputId": "471b4a87-2de7-4573-e69b-aa16e7fe3609"
      },
      "source": [
        "def gaussian_filter(img,k_size,sigma=1):\n",
        "    \n",
        "    new_image=np.zeros(img.shape)\n",
        "    kernel = gaussian_kernel (k_size, sigma)\n",
        "    for i in range(1,img.shape[0]-(math.floor(k_size/2))):\n",
        "        for j in range(1,img.shape[1]-(math.floor(k_size/2))):\n",
        "            new_val = conv_mult(img, kernel, i, j)\n",
        "            if new_val>255:\n",
        "              new_image[i][j] = 255\n",
        "            else:\n",
        "              new_image[i][j]= new_val\n",
        "    return new_image\n",
        "\n",
        "def gaussian_kernel (k_size, sigma=1):\n",
        "    kernel_half = math.floor (k_size/2)\n",
        "    x, y= np.mgrid[-kernel_half:kernel_half+1, -kernel_half:kernel_half+1]\n",
        "    kernel= (1/(2.0 * np.pi * sigma**2)) * (np.exp(-((x**2 + y**2)/(2.0*sigma**2))))\n",
        "    return kernel\n",
        "\n",
        "\n",
        "def conv_mult(img,kernel, i, j):\n",
        "    result = 0;\n",
        "    m= math.floor((len(kernel))/2)\n",
        "    n= len(kernel)-m\n",
        "    for x in range(-m,n):\n",
        "        for y in range(-m,n):\n",
        "            result += img[i+x][j+y] * kernel[x][y]\n",
        "    return result\n",
        "\n",
        "def subtract(img1,img2):\n",
        "    new_img = np.zeros(img1.shape, dtype=np.uint8)\n",
        "    for i in range(img1.shape[0]):\n",
        "        for j in range(img1.shape[1]):\n",
        "            new_img[i][j] = abs(int(img1[i][j])-int(img2[i][j]))\n",
        "    return new_img\n",
        "\n",
        "def DoG(img, size1, size2):\n",
        "    gaussian1 = gaussian_filter(img,size1,sigma=0.75)\n",
        "    gaussian2 = gaussian_filter(img,size1,sigma=1.25)\n",
        "    diff = subtract(gaussian1,gaussian2)\n",
        "    return diff\n",
        "\n",
        "\n",
        "original = data.astronaut()\n",
        "gray = RGBtoGray(original)\n",
        "edge_dog = DoG(gray, 7, 9)\n",
        "\n",
        "fig, (ax1,ax2) = plt.subplots(1,2)\n",
        "fig.set_size_inches(16, 8)\n",
        "ax1.imshow(original ,cmap=plt.cm.gray)\n",
        "ax2.imshow(edge_dog ,cmap=plt.cm.gray)\n",
        "plt.show()\n"
      ],
      "execution_count": null,
      "outputs": []
    },
    {
      "cell_type": "markdown",
      "metadata": {
        "colab_type": "text",
        "id": "WY20cmQSBN5C"
      },
      "source": [
        "#### Image Thresholding "
      ]
    },
    {
      "cell_type": "code",
      "metadata": {
        "colab_type": "code",
        "id": "C1OyJWGJBN5D",
        "scrolled": true,
        "colab": {
          "base_uri": "https://localhost:8080/",
          "height": 457
        },
        "outputId": "d10b1500-f665-4ef7-b25f-8776c1508aef"
      },
      "source": [
        "def binary_inverted (img, thr_value):\n",
        "    new_image = np.zeros(img.shape)\n",
        "    for i in range (img.shape[0]):\n",
        "        for j in range (img.shape[1]):\n",
        "            if (img[i][j]> thr_value):\n",
        "                new_image[i][j]=0\n",
        "            else:\n",
        "                new_image[i][j]=255\n",
        "    return new_image\n",
        "\n",
        "inverted_edges_dog = binary_inverted(edge_dog,9)\n",
        "fig, (ax1,ax2) = plt.subplots(1,2)\n",
        "fig.set_size_inches(16, 8)\n",
        "ax1.imshow(edge_dog ,cmap=plt.cm.gray)\n",
        "ax2.imshow(inverted_edges_dog ,cmap=plt.cm.gray)\n",
        "plt.show()"
      ],
      "execution_count": null,
      "outputs": []
    },
    {
      "cell_type": "code",
      "metadata": {
        "id": "L2cQQXE_Lygv",
        "colab_type": "code",
        "colab": {}
      },
      "source": [
        "car = io.imread('/content/car.png')\n",
        "baby = io.imread('/content/baby.png')\n",
        "lenna = io.imread('/content/Lenna.png')\n",
        "salmeen = io.imread('/content/salmeen.png')\n",
        "\n",
        "\n",
        "gray1 = RGBtoGray(car)\n",
        "gray2 = RGBtoGray(baby)\n",
        "gray3 = RGBtoGray(lenna)\n",
        "gray4 = RGBtoGray(salmeen)\n",
        "\n",
        "\n",
        "edge_dog1 = DoG(gray1, 7, 9)\n",
        "edge_dog2 = DoG(gray2, 7, 9)\n",
        "edge_dog3 = DoG(gray3, 7, 9)\n",
        "edge_dog4 = DoG(gray4, 7, 9)\n",
        "\n",
        "\n",
        "inverted_edges_dog1 = binary_inverted(edge_dog1,5)\n",
        "inverted_edges_dog2 = binary_inverted(edge_dog2,5)\n",
        "inverted_edges_dog3 = binary_inverted(edge_dog3,5)\n",
        "inverted_edges_dog4 = binary_inverted(edge_dog4,5)\n",
        "i"
      ],
      "execution_count": null,
      "outputs": []
    },
    {
      "cell_type": "code",
      "metadata": {
        "id": "gox1d6tGXa9r",
        "colab_type": "code",
        "colab": {}
      },
      "source": [
        "boy = io.imread('/content/boy.PNG')\n",
        "gray5= RGBtoGray(boy)\n",
        "edge_dog5 = DoG(gray5, 7, 9)\n",
        "nverted_edges_dog5 = binary_inverted(edge_dog5,5)\n"
      ],
      "execution_count": null,
      "outputs": []
    },
    {
      "cell_type": "markdown",
      "metadata": {
        "colab_type": "text",
        "id": "q7Q8pkXVBN5I"
      },
      "source": [
        "### Sobel Edge Detection "
      ]
    },
    {
      "cell_type": "code",
      "metadata": {
        "colab_type": "code",
        "id": "s2Tmrre_BN5I",
        "colab": {
          "base_uri": "https://localhost:8080/",
          "height": 457
        },
        "outputId": "830b06d9-ba07-49f7-ecf8-c403beedbd35"
      },
      "source": [
        "def Sobel_v(img):\n",
        "    new_image = np.zeros(img.shape)\n",
        "    for i in range(1,img.shape[0]-1):\n",
        "        for j in range(1,img.shape[1]-1):\n",
        "            new_image[i][j] = conv_mult1(img, [[-1,0,1],[-2,0,2],[-1,0,1]], i, j)\n",
        "    \n",
        "    return new_image\n",
        "\n",
        "def Sobel_h(img):\n",
        "    new_image = np.zeros(img.shape)\n",
        "    for i in range(1,img.shape[0]-1):\n",
        "        for j in range(1,img.shape[1]-1):\n",
        "            new_image[i][j] = conv_mult1(img, [[-1,-2,-1],[0,0,0],[1,2,1]], i, j)\n",
        "    \n",
        "    return new_image\n",
        "\n",
        "def sobel_sum(img):\n",
        "    res= Sobel_h(img)+ Sobel_v(img)\n",
        "    return res\n",
        "\n",
        "def conv_mult1(img,kernel, i, j):\n",
        "    result = 0;\n",
        "    for x in range(-1,2):\n",
        "        for y in range(-1,2):\n",
        "            result += img[i+x][j+y] * kernel[x][y];\n",
        "    return result\n",
        "\n",
        "original = data.astronaut()\n",
        "gray = RGBtoGray(original)\n",
        "edge_sobel = sobel_sum (gray)\n",
        "\n",
        "fig, (ax1,ax2) = plt.subplots(1,2)\n",
        "fig.set_size_inches(16, 8)\n",
        "ax1.imshow(original ,cmap=plt.cm.gray)\n",
        "ax2.imshow(edge_sobel ,cmap=plt.cm.gray)\n",
        "plt.show()\n"
      ],
      "execution_count": null,
      "outputs": []
    },
    {
      "cell_type": "code",
      "metadata": {
        "colab_type": "code",
        "id": "IUxRrDkmBN5L",
        "colab": {
          "base_uri": "https://localhost:8080/",
          "height": 457
        },
        "outputId": "e457f2eb-0b4c-4498-d25d-11d082fe8ce2"
      },
      "source": [
        "inverted_edges_sobel = binary_inverted(edge_sobel, 50)\n",
        "fig, (ax1,ax2) = plt.subplots(1,2)\n",
        "fig.set_size_inches(16, 8)\n",
        "ax1.imshow(edge_sobel ,cmap=plt.cm.gray)\n",
        "ax2.imshow(inverted_edges_sobel ,cmap=plt.cm.gray)\n",
        "plt.show()"
      ],
      "execution_count": null,
      "outputs": []
    },
    {
      "cell_type": "markdown",
      "metadata": {
        "colab_type": "text",
        "id": "ijKB1YbUBN5P"
      },
      "source": [
        "### Laplace Edge Detection"
      ]
    },
    {
      "cell_type": "code",
      "metadata": {
        "colab_type": "code",
        "id": "vRXz3wbTBN5P",
        "colab": {
          "base_uri": "https://localhost:8080/",
          "height": 457
        },
        "outputId": "f7ddbb91-0713-4d30-cbfb-35c7cf449d97"
      },
      "source": [
        "def Laplace(img):\n",
        "    new_image = np.zeros(img.shape)\n",
        "    for i in range(1,img.shape[0]-1):\n",
        "        for j in range(1,img.shape[1]-1):\n",
        "            new_image[i][j] = conv_mult(img,[[0,1,0],[1,-4,1],[0,1,0]],i,j)\n",
        "    return new_image\n",
        "\n",
        "def conv_mult(img,kernel, i, j):\n",
        "    result = 0;\n",
        "    for x in range(-1,2):\n",
        "        for y in range(-1,2):\n",
        "            result += img[i+x][j+y] * kernel[x][y];\n",
        "    return result\n",
        "\n",
        "original = data.astronaut()\n",
        "gray = RGBtoGray(original)\n",
        "edge_laplace = Laplace (gray)\n",
        "\n",
        "fig, (ax1,ax2) = plt.subplots(1,2)\n",
        "fig.set_size_inches(16, 8)\n",
        "ax1.imshow(original ,cmap=plt.cm.gray)\n",
        "ax2.imshow(edge_laplace ,cmap=plt.cm.gray)\n",
        "plt.show()\n"
      ],
      "execution_count": null,
      "outputs": []
    },
    {
      "cell_type": "code",
      "metadata": {
        "colab_type": "code",
        "id": "lNTB7AaVBN5T",
        "colab": {
          "base_uri": "https://localhost:8080/",
          "height": 457
        },
        "outputId": "f69f98bd-4404-455e-ca3e-b04d46a061ed"
      },
      "source": [
        "inverted_edges_laplace = binary_inverted(edge_laplace,27)\n",
        "fig, (ax1,ax2) = plt.subplots(1,2)\n",
        "fig.set_size_inches(16, 8)\n",
        "ax1.imshow(edge_laplace ,cmap=plt.cm.gray)\n",
        "ax2.imshow(inverted_edges_laplace ,cmap=plt.cm.gray)\n",
        "plt.show()"
      ],
      "execution_count": null,
      "outputs": []
    },
    {
      "cell_type": "markdown",
      "metadata": {
        "colab_type": "text",
        "id": "TDTifetfBN5X"
      },
      "source": [
        "### Canny Edge Detection "
      ]
    },
    {
      "cell_type": "code",
      "metadata": {
        "colab_type": "code",
        "id": "aiQd2YQjBN5X",
        "colab": {
          "base_uri": "https://localhost:8080/",
          "height": 457
        },
        "outputId": "258c0139-1f9c-4924-b670-87663af5d733"
      },
      "source": [
        "def mean_calc(img):\n",
        "    sumi = 0\n",
        "    counter = 0\n",
        "    for i in range (img.shape[0]):\n",
        "        for j in range (img.shape[1]):\n",
        "            sumi += img[i][j]\n",
        "            counter +=1\n",
        "    mean = int(sumi/counter)\n",
        "    return mean\n",
        "def canny_edge(img):\n",
        "    mean= mean_calc(img)\n",
        "    low= 0.001* mean\n",
        "    high= 0.5* mean\n",
        "    new_image = feature.canny(img, sigma=3,low_threshold=low,high_threshold=high)\n",
        "    return new_image\n",
        "\n",
        "original = data.astronaut()\n",
        "gray = RGBtoGray(original)\n",
        "edge_canny = canny_edge (gray)\n",
        "\n",
        "fig, (ax1,ax2) = plt.subplots(1,2)\n",
        "fig.set_size_inches(16, 8)\n",
        "ax1.imshow(original ,cmap=plt.cm.gray)\n",
        "ax2.imshow(edge_canny ,cmap=plt.cm.gray)\n",
        "plt.show()\n"
      ],
      "execution_count": null,
      "outputs": []
    },
    {
      "cell_type": "code",
      "metadata": {
        "colab_type": "code",
        "id": "Wl44aE2DBN5b",
        "colab": {
          "base_uri": "https://localhost:8080/",
          "height": 457
        },
        "outputId": "2ea7701f-9e3a-460d-da6b-228d24e82a28"
      },
      "source": [
        "inverted_edges_canny = binary_inverted(edge_canny, 0)\n",
        "fig, (ax1,ax2) = plt.subplots(1,2)\n",
        "fig.set_size_inches(16, 8)\n",
        "ax1.imshow(edge_canny ,cmap=plt.cm.gray)\n",
        "ax2.imshow(inverted_edges_canny ,cmap=plt.cm.gray)\n",
        "plt.show()"
      ],
      "execution_count": null,
      "outputs": []
    },
    {
      "cell_type": "markdown",
      "metadata": {
        "colab_type": "text",
        "id": "_pLY_DuOBN5h"
      },
      "source": [
        "## Region Smothing "
      ]
    },
    {
      "cell_type": "markdown",
      "metadata": {
        "colab_type": "text",
        "id": "tFtqIaWoBN5h"
      },
      "source": [
        "### Bilateral Filtering "
      ]
    },
    {
      "cell_type": "code",
      "metadata": {
        "colab_type": "code",
        "id": "Y7dVnIx2BN5k",
        "colab": {
          "base_uri": "https://localhost:8080/",
          "height": 457
        },
        "outputId": "1a5906ee-ced4-4f84-d74a-ab2f9a08176c"
      },
      "source": [
        "def bilateral_multiple(img, iterations,sigma_spatial, sigma_range):\n",
        "    new_image = img\n",
        "    for i in range (0,iterations):\n",
        "        new_image= bilateralfilter(new_image, win_size=max(5, 2*math.ceil(3*sigma_spatial)+1),\n",
        "                               sigma_color=sigma_range,sigma_spatial=sigma_spatial, bins=100000000, multichannel=True)\n",
        "        \n",
        "    return img_as_ubyte(new_image)\n",
        "fruit = data.astronaut()\n",
        "filtered2= bilateral_multiple(fruit,1,3,20)\n",
        "fig, (ax1,ax2) = plt.subplots(1,2)\n",
        "fig.set_size_inches(16, 8)\n",
        "ax1.imshow(fruit ,cmap=plt.cm.gray)\n",
        "ax2.imshow(filtered2 ,cmap=plt.cm.gray)\n",
        "plt.show()"
      ],
      "execution_count": null,
      "outputs": []
    },
    {
      "cell_type": "markdown",
      "metadata": {
        "id": "Od01veBPAhuO",
        "colab_type": "text"
      },
      "source": [
        "##**Combining the Filtered Image with Edge Detection Image**"
      ]
    },
    {
      "cell_type": "code",
      "metadata": {
        "colab_type": "code",
        "id": "KSRHfDdbBN5p",
        "colab": {}
      },
      "source": [
        "def combine(img_original,edges_inverted):\n",
        "    cartoon = np.zeros(img_original.shape)\n",
        "\n",
        "    for i in range(img_original.shape[0]):\n",
        "        for j in range(img_original.shape[1]):\n",
        "            if edges_inverted[i][j] != 0:\n",
        "                cartoon[i][j][0] = img_original[i][j][0]\n",
        "                cartoon[i][j][1] = img_original[i][j][1]\n",
        "                cartoon[i][j][2] = img_original[i][j][2]\n",
        "\n",
        "    return cartoon.astype(int)\n"
      ],
      "execution_count": null,
      "outputs": []
    },
    {
      "cell_type": "markdown",
      "metadata": {
        "id": "M-unPa72BEIC",
        "colab_type": "text"
      },
      "source": [
        "##Image Resizing\n"
      ]
    },
    {
      "cell_type": "code",
      "metadata": {
        "colab_type": "code",
        "id": "6OmIj-1qBN5s",
        "colab": {
          "base_uri": "https://localhost:8080/",
          "height": 457
        },
        "outputId": "1d890417-787b-4cf9-92c7-3570b34f0c80"
      },
      "source": [
        "def resize_img(img, factor):\n",
        "    length, width, channels = img.shape\n",
        "    new_image = resize(img,(int(length/ factor), int(width/ factor)))\n",
        "    return new_image\n",
        "                       \n",
        "fruit = data.astronaut()\n",
        "filtered1= resize_img(fruit, 2)\n",
        "fig, (ax1,ax2) = plt.subplots(1,2)\n",
        "fig.set_size_inches(16, 8)\n",
        "ax1.imshow(filtered1 ,cmap=plt.cm.gray)\n",
        "ax2.imshow(fruit ,cmap=plt.cm.gray)\n",
        "plt.show()"
      ],
      "execution_count": null,
      "outputs": []
    },
    {
      "cell_type": "code",
      "metadata": {
        "colab_type": "code",
        "id": "IGBra5q6BN5v",
        "colab": {
          "base_uri": "https://localhost:8080/",
          "height": 458
        },
        "outputId": "b1118a98-2b37-4cdb-e83c-90f4faa45d34"
      },
      "source": [
        "fruit = data.astronaut()\n",
        "filtered1= resize_img(fruit, 0.5)\n",
        "filtered2= resize_img(filtered1,2)\n",
        "fig, (ax1,ax2) = plt.subplots(1,2)\n",
        "fig.set_size_inches(16, 8)\n",
        "ax1.imshow(filtered1 ,cmap=plt.cm.gray)\n",
        "ax2.imshow(filtered2 ,cmap=plt.cm.gray)\n",
        "plt.show()"
      ],
      "execution_count": null,
      "outputs": []
    },
    {
      "cell_type": "markdown",
      "metadata": {
        "id": "yS2Hq_KkBTso",
        "colab_type": "text"
      },
      "source": [
        "##Main Function to Convert Real Images to Cartoon"
      ]
    },
    {
      "cell_type": "code",
      "metadata": {
        "colab_type": "code",
        "id": "GnTBxk_fBN50",
        "colab": {}
      },
      "source": [
        "#must run all previous cells in order\n",
        "def cartoon_image(img, edges=\"laplace\", iterations=1, sigma_spatial=3, sigma_range=10):\n",
        "    \n",
        "    gray_image = RGBtoGray (img).astype(int)\n",
        "    denoised_image = adaptive_median_filter(gray_image,21,9)\n",
        "    edges_img = None\n",
        "    if edges == \"laplace\":\n",
        "        Laplace_edge = Laplace (denoised_image)\n",
        "        edges_img = binary_inverted(Laplace_edge,50)\n",
        "    if edges == \"sobel\":\n",
        "        sobel_edge = sobel_sum (denoised_image)\n",
        "        edges_img = binary_inverted(sobel_edge,50)\n",
        "    if edges == \"canny\":\n",
        "        canny_img = canny_edge (denoised_image)\n",
        "        edges_img = binary_inverted(canny_img,0)\n",
        "    if edges == \"dog\":\n",
        "        edges_img = np.ones(gray_image.shape)\n",
        "\n",
        "\n",
        "    # small_image = resize_img(img,1.05)\n",
        "    filtered_bilateral = bilateral_multiple(img, iterations,sigma_spatial, sigma_range)\n",
        "    # fullsize_image = resize_img(filtered_bilateral,0.95238)\n",
        "    result = combine(filtered_bilateral, edges_img)\n",
        "    return result\n",
        "\n",
        "\n",
        "\n"
      ],
      "execution_count": null,
      "outputs": []
    },
    {
      "cell_type": "markdown",
      "metadata": {
        "id": "3dKGD3VSBiCB",
        "colab_type": "text"
      },
      "source": [
        "###Test Case 1"
      ]
    },
    {
      "cell_type": "code",
      "metadata": {
        "id": "a_dKmDJDRDge",
        "colab_type": "code",
        "colab": {
          "base_uri": "https://localhost:8080/",
          "height": 1000
        },
        "outputId": "627743c5-69d7-4c4e-d258-484ce8e42b24"
      },
      "source": [
        "astronaut = data.astronaut()\n",
        "cartoon1 = cartoon_image(astronaut, edges=\"laplace\", iterations=1, sigma_spatial=3, sigma_range=20)\n",
        "cartoon2 = cartoon_image(astronaut, edges=\"sobel\", iterations=1, sigma_spatial=3, sigma_range=20)\n",
        "cartoon3 = cartoon_image(astronaut, edges=\"canny\", iterations=1, sigma_spatial=3, sigma_range=20)\n",
        "cartoon4 = cartoon_image(astronaut, edges=\"dog\", iterations=1, sigma_spatial=3, sigma_range=20)\n",
        "\n",
        " \n",
        "fig, ((ax1,ax2) , (ax3,ax4)) = plt.subplots(2,2)\n",
        "fig.set_size_inches(20, 20)\n",
        "ax1.imshow(cartoon1)\n",
        "ax2.imshow(cartoon2)\n",
        "ax3.imshow(cartoon3)\n",
        "ax4.imshow(combine(cartoon4,inverted_edges_dog))\n",
        "\n",
        "ax1.set_title(\"laplace\")\n",
        "ax2.set_title(\"sobel\")\n",
        "ax3.set_title(\"canny\")\n",
        "ax4.set_title(\"dog\")\n",
        "plt.show()"
      ],
      "execution_count": null,
      "outputs": []
    },
    {
      "cell_type": "markdown",
      "metadata": {
        "id": "FtAODYxgBoFL",
        "colab_type": "text"
      },
      "source": [
        "###Test Case 2\n"
      ]
    },
    {
      "cell_type": "code",
      "metadata": {
        "id": "AFlyKfNChwcA",
        "colab_type": "code",
        "colab": {
          "base_uri": "https://localhost:8080/",
          "height": 961
        },
        "outputId": "a713d928-e9c3-44ba-a5a7-32b9c469463e"
      },
      "source": [
        "car = io.imread('/content/car.png')\n",
        "cartoon5 = cartoon_image(car, edges=\"laplace\", iterations=1, sigma_spatial=6, sigma_range=10)\n",
        "cartoon6 = cartoon_image(car, edges=\"sobel\", iterations=1, sigma_spatial=6, sigma_range=10)\n",
        "cartoon7 = cartoon_image(car, edges=\"canny\", iterations=1, sigma_spatial=6, sigma_range=10)\n",
        "cartoon8 = cartoon_image(car, edges=\"dog\", iterations=1, sigma_spatial=6, sigma_range=10)\n",
        "\n",
        "\n",
        "fig, ((ax1,ax2) , (ax3,ax4)) = plt.subplots(2,2)\n",
        "fig.set_size_inches(20, 20)\n",
        "ax1.imshow(cartoon5)\n",
        "ax2.imshow(cartoon6)\n",
        "ax3.imshow(cartoon7)\n",
        "ax4.imshow(combine(cartoon8,inverted_edges_dog1))\n",
        "\n",
        "ax1.set_title(\"laplace\")\n",
        "ax2.set_title(\"sobel\")\n",
        "ax3.set_title(\"canny\")\n",
        "ax4.set_title(\"dog\" )\n",
        "\n",
        "\n",
        "plt.show()"
      ],
      "execution_count": null,
      "outputs": []
    },
    {
      "cell_type": "markdown",
      "metadata": {
        "id": "4dxBy6eKBso5",
        "colab_type": "text"
      },
      "source": [
        "###Test Case 3"
      ]
    },
    {
      "cell_type": "code",
      "metadata": {
        "id": "UzbnE1dvh1kO",
        "colab_type": "code",
        "colab": {
          "base_uri": "https://localhost:8080/",
          "height": 1000
        },
        "outputId": "fd41d10d-6064-44dc-9f01-6f604a93ef13"
      },
      "source": [
        "baby = io.imread('/content/baby.png')\n",
        "cartoon9 = cartoon_image(baby, edges=\"laplace\", iterations=1, sigma_spatial=5, sigma_range=12)\n",
        "cartoon10 = cartoon_image(baby, edges=\"sobel\", iterations=1, sigma_spatial=5, sigma_range=12)\n",
        "cartoon11 = cartoon_image(baby, edges=\"canny\", iterations=1, sigma_spatial=5, sigma_range=12)\n",
        "cartoon12 = cartoon_image(baby, edges=\"dog\", iterations=1, sigma_spatial=5, sigma_range=12)\n",
        "\n",
        "\n",
        "fig, ((ax1,ax2) , (ax3,ax4)) = plt.subplots(2,2)\n",
        "fig.set_size_inches(20, 20)\n",
        "ax1.imshow(cartoon9)\n",
        "ax2.imshow(cartoon10)\n",
        "ax3.imshow(cartoon11)\n",
        "ax4.imshow(combine(cartoon12,inverted_edges_dog2))\n",
        "\n",
        "ax1.set_title(\"laplace\")\n",
        "ax2.set_title(\"sobel\")\n",
        "ax3.set_title(\"canny\")\n",
        "ax4.set_title(\"dog\" )\n",
        "\n",
        "\n",
        "plt.show()"
      ],
      "execution_count": null,
      "outputs": []
    },
    {
      "cell_type": "markdown",
      "metadata": {
        "id": "JiCfBXS8BwgY",
        "colab_type": "text"
      },
      "source": [
        "###Test Case 4"
      ]
    },
    {
      "cell_type": "code",
      "metadata": {
        "id": "k3JzrFYNh3kL",
        "colab_type": "code",
        "colab": {
          "base_uri": "https://localhost:8080/",
          "height": 1000
        },
        "outputId": "fb0707df-8708-431d-b59f-033668d99339"
      },
      "source": [
        "lenna = io.imread('/content/Lenna.png')\n",
        "cartoon13 = cartoon_image(lenna, edges=\"laplace\", iterations=1, sigma_spatial=6, sigma_range=10)\n",
        "cartoon14 = cartoon_image(lenna, edges=\"sobel\", iterations=1, sigma_spatial=6, sigma_range=10)\n",
        "cartoon15 = cartoon_image(lenna, edges=\"canny\", iterations=1, sigma_spatial=6, sigma_range=10)\n",
        "cartoon16 = cartoon_image(lenna, edges=\"dog\", iterations=1, sigma_spatial=6, sigma_range=10)\n",
        "\n",
        "\n",
        "fig, ((ax1,ax2) , (ax3,ax4)) = plt.subplots(2,2)\n",
        "fig.set_size_inches(20, 20)\n",
        "ax1.imshow(cartoon13)\n",
        "ax2.imshow(cartoon14)\n",
        "ax3.imshow(cartoon15)\n",
        "ax4.imshow(combine(cartoon16,inverted_edges_dog3))\n",
        "\n",
        "ax1.set_title(\"laplace\")\n",
        "ax2.set_title(\"sobel\")\n",
        "ax3.set_title(\"canny\")\n",
        "ax4.set_title(\"dog\" )\n",
        "\n",
        "\n",
        "plt.show()"
      ],
      "execution_count": null,
      "outputs": []
    },
    {
      "cell_type": "code",
      "metadata": {
        "id": "_KaD0HUEViTX",
        "colab_type": "code",
        "colab": {}
      },
      "source": [
        ""
      ],
      "execution_count": null,
      "outputs": []
    }
  ]
}